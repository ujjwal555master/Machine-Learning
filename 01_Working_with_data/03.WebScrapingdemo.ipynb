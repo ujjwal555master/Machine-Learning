{
 "cells": [
  {
   "cell_type": "code",
   "execution_count": 1,
   "id": "00312e4a-ec54-4c69-afd0-3937649a2f60",
   "metadata": {},
   "outputs": [],
   "source": [
    "# Do Web Scraping and create data\n",
    "# use firstly website https://www.ambitionbox.com/list-of-companies?page=1"
   ]
  },
  {
   "cell_type": "code",
   "execution_count": 2,
   "id": "b868ea85-cb7a-46d8-a3c7-85f66ef57583",
   "metadata": {},
   "outputs": [],
   "source": [
    "import pandas as pd\n",
    "import requests\n",
    "from bs4 import BeautifulSoup\n",
    "import lxml"
   ]
  },
  {
   "cell_type": "code",
   "execution_count": 3,
   "id": "985704ba-fb00-4e3b-be05-260be8dc7ce1",
   "metadata": {},
   "outputs": [
    {
     "data": {
      "text/plain": [
       "'<HTML><HEAD>\\n<TITLE>Access Denied</TITLE>\\n</HEAD><BODY>\\n<H1>Access Denied</H1>\\n \\nYou don\\'t have permission to access \"http&#58;&#47;&#47;www&#46;ambitionbox&#46;com&#47;list&#45;of&#45;companies&#63;\" on this server.<P>\\nReference&#32;&#35;18&#46;965d3a17&#46;1741198519&#46;13b9a0a2\\n<P>https&#58;&#47;&#47;errors&#46;edgesuite&#46;net&#47;18&#46;965d3a17&#46;1741198519&#46;13b9a0a2</P>\\n</BODY>\\n</HTML>\\n'"
      ]
     },
     "execution_count": 3,
     "metadata": {},
     "output_type": "execute_result"
    }
   ],
   "source": [
    "requests.get('https://www.ambitionbox.com/list-of-companies?page=1').text"
   ]
  },
  {
   "cell_type": "code",
   "execution_count": 4,
   "id": "16f5e018-6460-4741-9cbe-7579a809957c",
   "metadata": {},
   "outputs": [],
   "source": [
    "headers={'User-Agent':'Mozilla/5.0 (Windows NT 6.3; Win 64 ; x64) Apple WeKit /537.36(KHTML , like Gecko) Chrome/80.0.3987.162 Safari/537.36'}\n",
    "webpage = requests.get('https://www.ambitionbox.com/list-of-companies?page=1',headers=headers).text"
   ]
  },
  {
   "cell_type": "code",
   "execution_count": 5,
   "id": "31146ce6-d0b2-4a88-9158-7752f200ecf2",
   "metadata": {},
   "outputs": [],
   "source": [
    "page = BeautifulSoup(webpage,\"lxml\")"
   ]
  },
  {
   "cell_type": "code",
   "execution_count": 7,
   "id": "14e1722d-18de-4b83-8620-bb040a806622",
   "metadata": {},
   "outputs": [],
   "source": [
    "preety = page.prettify()"
   ]
  },
  {
   "cell_type": "code",
   "execution_count": 34,
   "id": "70ce5fa2-5c7e-435e-b0b0-ba90c58dd70f",
   "metadata": {},
   "outputs": [
    {
     "name": "stdout",
     "output_type": "stream",
     "text": [
      "<div class=\"companyCardWrapper__companyDetails\">\n",
      " <div class=\"companyCardWrapper__companyLogo\">\n",
      "  <img alt=\"Tata Consultancy Services logo\" height=\"50\" loading=\"lazy\" onerror=\"this.onerror=null;this.src='/static/icons/company-placeholder.svg';\" src=\"https://static.ambitionbox.com/assets/v2/images/rs:fit:200:200:false:false/bG9jYWw6Ly8vbG9nb3Mvb3JpZ2luYWxzL3Rjcy5qcGc.webp\" width=\"50\"/>\n",
      " </div>\n",
      " <div class=\"companyCardWrapper__metaInformation\">\n",
      "  <div class=\"companyCardWrapper__header\">\n",
      "   <div class=\"companyCardWrapper__companyPrimaryDetails\">\n",
      "    <div class=\"companyCardWrapper__companyPrimaryDetailsTopSection\">\n",
      "     <a class=\"companyCardWrapper__companyName\">\n",
      "      <h2 class=\"companyCardWrapper__companyName\" title=\"TCS\">\n",
      "       TCS\n",
      "      </h2>\n",
      "     </a>\n",
      "     <span class=\"companyCardWrapper__companyVerified\">\n",
      "      <img alt=\"verified logo\" height=\"16px\" src=\"https://static.ambitionbox.com/static/icons/verified_blue_tick.svg\" width=\"16px\"/>\n",
      "     </span>\n",
      "    </div>\n",
      "   </div>\n",
      "   <button arialabel=\"Follow\" class=\"companyCardWrapper__FollowCTA g-btn g-btn--text g-btn--md\" title=\"Follow\" type=\"button\">\n",
      "    <!-- -->\n",
      "    <span class=\"g-btn__label g-btn__label--md g-btn__label--text g-btn__label--loader\">\n",
      "     Follow\n",
      "    </span>\n",
      "    <!-- -->\n",
      "   </button>\n",
      "   <!-- -->\n",
      "  </div>\n",
      "  <div class=\"companyCardWrapper__secondaryInformation\">\n",
      "   <div class=\"companyCardWrapper__ratingWrapper\">\n",
      "    <div class=\"companyCardWrapper__interLinkingWrapper\">\n",
      "     <div class=\"companyCardWrapper__companyRatingWrapper\">\n",
      "      <div class=\"companyCardWrapper__companyRating\">\n",
      "       <div class=\"rating_star_container\">\n",
      "        <svg fill=\"none\" height=\"20\" viewbox=\"0 0 20 20\" width=\"20\" xmlns=\"http://www.w3.org/2000/svg\">\n",
      "         <rect fill=\"#9acd32\" height=\"20\" rx=\"4\" width=\"20\">\n",
      "         </rect>\n",
      "         <path d=\"M6.295 16L7.27 11.5632L4 8.57895L8.32 8.18421L10 4L11.68 8.18421L16 8.57895L12.73 11.5632L13.705 16L10 13.6474L6.295 16Z\" fill=\"white\">\n",
      "         </path>\n",
      "        </svg>\n",
      "        <div class=\"rating_text rating_text--md\">\n",
      "         <div style=\"height:auto;padding-bottom:1px;\">\n",
      "          3.7\n",
      "          <!-- -->\n",
      "         </div>\n",
      "        </div>\n",
      "       </div>\n",
      "      </div>\n",
      "      <div>\n",
      "       <span class=\"companyCardWrapper__companyRatingCount\">\n",
      "        (89.9k)\n",
      "       </span>\n",
      "      </div>\n",
      "     </div>\n",
      "     <span class=\"companyCardWrapper__interLinking\">\n",
      "      IT Services &amp; Consulting | Bangalore / Bengaluru +388 other locations\n",
      "     </span>\n",
      "    </div>\n",
      "    <!-- -->\n",
      "    <div class=\"companyCardWrapper__ratingComparisonWrapper\">\n",
      "     <div>\n",
      "      <div class=\"companyCardWrapper__ratingHeader\">\n",
      "       <img alt=\"thumbsup logo\" height=\"14px\" src=\"https://static.ambitionbox.com/static/companyListing/ThumbsUp.svg\" width=\"14px\"/>\n",
      "       <span class=\"companyCardWrapper__ratingHeader--high\">\n",
      "        Highly Rated For\n",
      "       </span>\n",
      "      </div>\n",
      "      <span class=\"companyCardWrapper__ratingValues\">\n",
      "       Job Security, Work Life Balance\n",
      "      </span>\n",
      "     </div>\n",
      "     <div>\n",
      "      <div class=\"companyCardWrapper__ratingHeader\">\n",
      "       <img alt=\"thumbsdown logo\" height=\"14px\" src=\"https://static.ambitionbox.com/static/companyListing/ThumbsDown.svg\" width=\"14px\"/>\n",
      "       <span class=\"companyCardWrapper__ratingHeader--critical\">\n",
      "        Critically Rated For\n",
      "       </span>\n",
      "      </div>\n",
      "      <span class=\"companyCardWrapper__ratingValues\">\n",
      "       Promotions / Appraisal, Salary &amp; Benefits, Work Satisfaction\n",
      "      </span>\n",
      "     </div>\n",
      "    </div>\n",
      "   </div>\n",
      "  </div>\n",
      "  <div>\n",
      "   <div class=\"viewSalaryInsights\">\n",
      "    <div class=\"salaryInsightsText\">\n",
      "     To view salary insights\n",
      "    </div>\n",
      "    <div class=\"designationSelectionText\">\n",
      "     Select designation\n",
      "    </div>\n",
      "   </div>\n",
      "   <div>\n",
      "    <div class=\"modal-mask\" close-on-outside-click=\"true\" data-v-50f490a3=\"\" style=\"display:none;\">\n",
      "     <div class=\"modal-wrapper\" data-v-50f490a3=\"\">\n",
      "      <!-- -->\n",
      "     </div>\n",
      "    </div>\n",
      "   </div>\n",
      "   <!-- -->\n",
      "  </div>\n",
      " </div>\n",
      "</div>\n",
      "\n"
     ]
    }
   ],
   "source": [
    "print(page.find_all('div',class_=\"companyCardWrapper__companyDetails\")[0].prettify())"
   ]
  },
  {
   "cell_type": "code",
   "execution_count": 48,
   "id": "f0424da4-eedc-418a-8c5e-220383663ca7",
   "metadata": {},
   "outputs": [
    {
     "name": "stdout",
     "output_type": "stream",
     "text": [
      "TCS --> 3.7\n",
      "IT Services & Consulting | Bangalore / Bengaluru +388 other locations\n",
      "Job Security, Work Life Balance\n",
      "Accenture --> 3.8\n",
      "IT Services & Consulting | Bangalore / Bengaluru +203 other locations\n",
      "Company Culture, Job Security, Skill Development / Learning\n",
      "Wipro --> 3.7\n",
      "IT Services & Consulting | Bangalore / Bengaluru +342 other locations\n",
      "Job Security\n",
      "Cognizant --> 3.8\n",
      "IT Services & Consulting | Chennai +193 other locations\n",
      "Promotions / Appraisal, Salary & Benefits, Work Satisfaction\n",
      "Capgemini --> 3.7\n",
      "IT Services & Consulting | Bangalore / Bengaluru +166 other locations\n",
      "Work Life Balance, Job Security\n",
      "HDFC Bank --> 3.9\n",
      "Banking | Mumbai +1654 other locations\n",
      "Job Security, Skill Development / Learning\n",
      "Infosys --> 3.6\n",
      "IT Services & Consulting | Bangalore / Bengaluru +213 other locations\n",
      "Job Security\n",
      "ICICI Bank --> 4.0\n",
      "Banking | Mumbai +1353 other locations\n",
      "Job Security, Skill Development / Learning, Company Culture\n",
      "HCLTech --> 3.5\n",
      "IT Services & Consulting | Chennai +206 other locations\n",
      "Job Security\n",
      "Tech Mahindra --> 3.5\n",
      "IT Services & Consulting | Hyderabad / Secunderabad +293 other locations\n",
      "Promotions / Appraisal, Salary & Benefits, Work Satisfaction\n",
      "Genpact --> 3.8\n",
      "IT Services & Consulting | Hyderabad / Secunderabad +137 other locations\n",
      "Job Security, Work Life Balance, Skill Development / Learning\n",
      "Teleperformance --> 3.9\n",
      "BPO | Mumbai +210 other locations\n",
      "Skill Development / Learning, Company Culture, Work Life Balance\n",
      "Concentrix Corporation --> 3.8\n",
      "BPO | Bangalore / Bengaluru +143 other locations\n",
      "Job Security\n",
      "Axis Bank --> 3.8\n",
      "Banking | Mumbai +1385 other locations\n",
      "Promotions / Appraisal, Work Satisfaction\n",
      "Amazon --> 4.1\n",
      "Internet | Bangalore / Bengaluru +466 other locations\n",
      "Company Culture, Salary & Benefits, Work Life Balance\n",
      "Jio --> 3.9\n",
      "Telecom | Mumbai +1261 other locations\n",
      "Job Security, Skill Development / Learning\n",
      "iEnergizer --> 4.6\n",
      "BPO | Noida +39 other locations\n",
      "Company Culture, Work Life Balance, Work Satisfaction\n",
      "Reliance Retail --> 3.9\n",
      "Retail | Mumbai +1057 other locations\n",
      "Skill Development / Learning, Job Security\n",
      "IBM --> 4.0\n",
      "IT Services & Consulting | Bangalore / Bengaluru +157 other locations\n",
      "Work Life Balance, Company Culture, Job Security\n",
      "LTIMindtree --> 3.8\n",
      "IT Services & Consulting | Bangalore / Bengaluru +126 other locations\n",
      "Work Life Balance\n"
     ]
    }
   ],
   "source": [
    "for i in page.find_all('div',class_=\"companyCardWrapper__companyDetails\"):\n",
    "    print(i.find('h2').text.strip(), end=\" --> \")\n",
    "    print(i.find('div', class_=\"rating_text\").text.strip())\n",
    "    print(i.find('span', class_=\"companyCardWrapper__interLinking\").text.strip())\n",
    "    print(i.find('span', class_=\"companyCardWrapper__ratingValues\").text.strip())\n",
    "    "
   ]
  },
  {
   "cell_type": "code",
   "execution_count": 55,
   "id": "95d71c57-966f-4d0c-a8af-1c33f2fa1e24",
   "metadata": {},
   "outputs": [],
   "source": [
    "Name = []\n",
    "rating =[]\n",
    "about = []\n",
    "feature =[]\n",
    "\n",
    "for i in range (1,11):\n",
    "    headers={'User-Agent':'Mozilla/5.0 (Windows NT 6.3; Win 64 ; x64) Apple WeKit /537.36(KHTML , like Gecko) Chrome/80.0.3987.162 Safari/537.36'}\n",
    "    webpage = requests.get('https://www.ambitionbox.com/list-of-companies?page={}'.format(i),headers=headers).text\n",
    "\n",
    "    page = BeautifulSoup(webpage,\"lxml\")\n",
    "    for i in page.find_all('div',class_=\"companyCardWrapper__companyDetails\"):\n",
    "        Name.append(i.find('h2').text.strip())\n",
    "        rating.append(i.find('div', class_=\"rating_text\").text.strip())\n",
    "        about.append(i.find('span', class_=\"companyCardWrapper__interLinking\").text.strip())\n",
    "        feature.append(i.find('span', class_=\"companyCardWrapper__ratingValues\").text.strip())\n",
    "    "
   ]
  },
  {
   "cell_type": "code",
   "execution_count": 56,
   "id": "63f97e7e-1126-4c1a-96f3-615f732a4af0",
   "metadata": {},
   "outputs": [],
   "source": [
    "data = {'name':Name, 'rating':rating, 'about':about, 'feature':feature}"
   ]
  },
  {
   "cell_type": "code",
   "execution_count": 57,
   "id": "81267894-bc04-4670-8e52-04f3add178c4",
   "metadata": {},
   "outputs": [],
   "source": [
    "df = pd.DataFrame(data)"
   ]
  },
  {
   "cell_type": "code",
   "execution_count": 59,
   "id": "921fa42e-d03a-47b6-9d87-07ee1984ccd6",
   "metadata": {},
   "outputs": [
    {
     "data": {
      "text/html": [
       "<div>\n",
       "<style scoped>\n",
       "    .dataframe tbody tr th:only-of-type {\n",
       "        vertical-align: middle;\n",
       "    }\n",
       "\n",
       "    .dataframe tbody tr th {\n",
       "        vertical-align: top;\n",
       "    }\n",
       "\n",
       "    .dataframe thead th {\n",
       "        text-align: right;\n",
       "    }\n",
       "</style>\n",
       "<table border=\"1\" class=\"dataframe\">\n",
       "  <thead>\n",
       "    <tr style=\"text-align: right;\">\n",
       "      <th></th>\n",
       "      <th>name</th>\n",
       "      <th>rating</th>\n",
       "      <th>about</th>\n",
       "      <th>feature</th>\n",
       "    </tr>\n",
       "  </thead>\n",
       "  <tbody>\n",
       "    <tr>\n",
       "      <th>0</th>\n",
       "      <td>TCS</td>\n",
       "      <td>3.7</td>\n",
       "      <td>IT Services &amp; Consulting | Bangalore / Bengalu...</td>\n",
       "      <td>Job Security, Work Life Balance</td>\n",
       "    </tr>\n",
       "    <tr>\n",
       "      <th>1</th>\n",
       "      <td>Accenture</td>\n",
       "      <td>3.8</td>\n",
       "      <td>IT Services &amp; Consulting | Bangalore / Bengalu...</td>\n",
       "      <td>Company Culture, Job Security, Skill Developme...</td>\n",
       "    </tr>\n",
       "    <tr>\n",
       "      <th>2</th>\n",
       "      <td>Wipro</td>\n",
       "      <td>3.7</td>\n",
       "      <td>IT Services &amp; Consulting | Bangalore / Bengalu...</td>\n",
       "      <td>Job Security</td>\n",
       "    </tr>\n",
       "    <tr>\n",
       "      <th>3</th>\n",
       "      <td>Cognizant</td>\n",
       "      <td>3.8</td>\n",
       "      <td>IT Services &amp; Consulting | Chennai +193 other ...</td>\n",
       "      <td>Promotions / Appraisal, Salary &amp; Benefits, Wor...</td>\n",
       "    </tr>\n",
       "    <tr>\n",
       "      <th>4</th>\n",
       "      <td>Capgemini</td>\n",
       "      <td>3.7</td>\n",
       "      <td>IT Services &amp; Consulting | Bangalore / Bengalu...</td>\n",
       "      <td>Work Life Balance, Job Security</td>\n",
       "    </tr>\n",
       "  </tbody>\n",
       "</table>\n",
       "</div>"
      ],
      "text/plain": [
       "        name rating                                              about  \\\n",
       "0        TCS    3.7  IT Services & Consulting | Bangalore / Bengalu...   \n",
       "1  Accenture    3.8  IT Services & Consulting | Bangalore / Bengalu...   \n",
       "2      Wipro    3.7  IT Services & Consulting | Bangalore / Bengalu...   \n",
       "3  Cognizant    3.8  IT Services & Consulting | Chennai +193 other ...   \n",
       "4  Capgemini    3.7  IT Services & Consulting | Bangalore / Bengalu...   \n",
       "\n",
       "                                             feature  \n",
       "0                    Job Security, Work Life Balance  \n",
       "1  Company Culture, Job Security, Skill Developme...  \n",
       "2                                       Job Security  \n",
       "3  Promotions / Appraisal, Salary & Benefits, Wor...  \n",
       "4                    Work Life Balance, Job Security  "
      ]
     },
     "execution_count": 59,
     "metadata": {},
     "output_type": "execute_result"
    }
   ],
   "source": [
    "df.head()"
   ]
  },
  {
   "cell_type": "code",
   "execution_count": null,
   "id": "022a3a87-125e-4c03-9941-197fb46b06b4",
   "metadata": {},
   "outputs": [],
   "source": []
  }
 ],
 "metadata": {
  "kernelspec": {
   "display_name": "Python 3 (ipykernel)",
   "language": "python",
   "name": "python3"
  },
  "language_info": {
   "codemirror_mode": {
    "name": "ipython",
    "version": 3
   },
   "file_extension": ".py",
   "mimetype": "text/x-python",
   "name": "python",
   "nbconvert_exporter": "python",
   "pygments_lexer": "ipython3",
   "version": "3.11.2"
  }
 },
 "nbformat": 4,
 "nbformat_minor": 5
}
